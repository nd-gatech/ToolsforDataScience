{
 "cells": [
  {
   "cell_type": "markdown",
   "id": "9c3f7c6f-232c-4795-92ea-e691d11e69d2",
   "metadata": {},
   "source": [
    "# Data Science Tools and Ecosystems"
   ]
  },
  {
   "cell_type": "markdown",
   "id": "474182d5-1a99-489c-ac30-e3d1b2cbf9d9",
   "metadata": {},
   "source": [
    "In this notebook, Data Science Tools and Ecosystem are summarized."
   ]
  },
  {
   "cell_type": "markdown",
   "id": "2d74d5c1-4025-4530-b96d-94d7f9de48e9",
   "metadata": {},
   "source": [
    "**Objectives:**\n",
    "* Python\n",
    "* R\n",
    "* Julia\n",
    "* Scala\n",
    "* SQL"
   ]
  },
  {
   "cell_type": "markdown",
   "id": "b2fdcae0-381f-43fc-9cb0-e6d241a99cd8",
   "metadata": {},
   "source": [
    "Some of the popular languages that Data Scientists use are: \n",
    "1. Python\n",
    "2. R\n",
    "3. Jupyter"
   ]
  },
  {
   "cell_type": "markdown",
   "id": "b0d14ed0-309a-4658-b9d8-e8d54c853113",
   "metadata": {
    "tags": []
   },
   "source": [
    "Some of the commonly used libraries used by Data Scientists include: \n",
    "1. NumPy\n",
    "2. Pandas\n",
    "3. Matplotlib"
   ]
  },
  {
   "cell_type": "markdown",
   "id": "20f9ad33-3cb5-429a-8ed5-ccf7d3b00b0b",
   "metadata": {},
   "source": [
    "|Data Science Tools |\n",
    "|------------------|\n",
    "|Knime |\n",
    "|Hadoop |\n",
    "|Spark |"
   ]
  },
  {
   "cell_type": "markdown",
   "id": "a40ecf81-75ce-4bca-8a31-4d1b3add06df",
   "metadata": {},
   "source": [
    "### Below are a few examples of evaluating arithmetic expressions in Python"
   ]
  },
  {
   "cell_type": "code",
   "execution_count": 5,
   "id": "4e6bb755-af26-4f55-8d05-bdfde9382979",
   "metadata": {
    "jp-MarkdownHeadingCollapsed": true,
    "tags": []
   },
   "outputs": [
    {
     "data": {
      "text/plain": [
       "17"
      ]
     },
     "execution_count": 5,
     "metadata": {},
     "output_type": "execute_result"
    }
   ],
   "source": [
    "# This a simple arithmetic expression to mutiply then add integers\n",
    "(3 * 4) + 5"
   ]
  },
  {
   "cell_type": "code",
   "execution_count": 6,
   "id": "057e3571-dcf1-4640-a4ec-fb4327856f70",
   "metadata": {
    "tags": []
   },
   "outputs": [
    {
     "data": {
      "text/plain": [
       "3.3333333333333335"
      ]
     },
     "execution_count": 6,
     "metadata": {},
     "output_type": "execute_result"
    }
   ],
   "source": [
    "# This will convert 200 minutes to hours by diving by 60\n",
    "(200 / 60.)"
   ]
  },
  {
   "cell_type": "markdown",
   "id": "f9229292-cc64-4e93-945b-4bc447153915",
   "metadata": {},
   "source": [
    "## Author\n",
    "Naresh Dhaubanjar"
   ]
  },
  {
   "cell_type": "code",
   "execution_count": null,
   "id": "486e0661-c344-4e54-84eb-a67baa0f3f55",
   "metadata": {},
   "outputs": [],
   "source": []
  }
 ],
 "metadata": {
  "kernelspec": {
   "display_name": "Python",
   "language": "python",
   "name": "conda-env-python-py"
  },
  "language_info": {
   "codemirror_mode": {
    "name": "ipython",
    "version": 3
   },
   "file_extension": ".py",
   "mimetype": "text/x-python",
   "name": "python",
   "nbconvert_exporter": "python",
   "pygments_lexer": "ipython3",
   "version": "3.7.12"
  }
 },
 "nbformat": 4,
 "nbformat_minor": 5
}
